{
 "cells": [
  {
   "cell_type": "code",
   "execution_count": 1,
   "id": "2889e123",
   "metadata": {},
   "outputs": [
    {
     "name": "stdout",
     "output_type": "stream",
     "text": [
      "정수를 몇 개 저장할까요?: 10\n",
      "1번째 정수를 입력하세요.: 15\n",
      "계속할까요?(Y```Yes/N```No): y\n",
      "2번째 정수를 입력하세요.: 17\n",
      "계속할까요?(Y```Yes/N```No): 1\n",
      "3번째 정수를 입력하세요.: 64\n",
      "계속할까요?(Y```Yes/N```No): 1\n",
      "4번째 정수를 입력하세요.: 57\n",
      "계속할까요?(Y```Yes/N```No): 1\n",
      "5번째 정수를 입력하세요.: 99\n",
      "계속할까요?(Y```Yes/N```No): 1\n",
      "6번째 정수를 입력하세요.: 21\n",
      "계속할까요?(Y```Yes/N```No): 1\n",
      "7번째 정수를 입력하세요.: 0\n",
      "계속할까요?(Y```Yes/N```No): 0\n",
      "8번째 정수를 입력하세요.: 23\n",
      "계속할까요?(Y```Yes/N```No): 3\n",
      "9번째 정수를 입력하세요.: 44\n",
      "계속할까요?(Y```Yes/N```No): 4\n",
      "10번째 정수를 입력하세요.: 55\n",
      "계속할까요?(Y```Yes/N```No): 5\n",
      "11번째 정수를 입력하세요.: 97\n",
      "계속할까요?(Y```Yes/N```No): 7\n",
      "12번째 정수를 입력하세요.: 85\n",
      "계속할까요?(Y```Yes/N```No): n\n",
      "3번째=64\n",
      "4번째=57\n",
      "5번째=99\n",
      "6번째=21\n",
      "7번째=0\n",
      "8번째=23\n",
      "9번째=44\n",
      "10번째=55\n",
      "11번째=97\n",
      "12번째=85\n"
     ]
    }
   ],
   "source": [
    "# 원하는 개수(n)만큼 값을 입력받아 마지막 n개를 저장\n",
    "\n",
    "n=int(input('정수를 몇 개 저장할까요?: '))\n",
    "a=[None]*n     #입력받은 값을 저장하는 배열\n",
    "\n",
    "cnt=0   #정수를 입력받은 개수\n",
    "while True:\n",
    "    a[cnt%n]=int(input((f'{cnt+1}번째 정수를 입력하세요.: ')))\n",
    "    cnt+=1\n",
    "    \n",
    "    retry=input(f'계속할까요?(Y```Yes/N```No): ')\n",
    "    if retry in {'N','n'}:\n",
    "        break\n",
    "        \n",
    "i=cnt-n\n",
    "if i<0:i=0\n",
    "    \n",
    "while i<cnt:\n",
    "    print(f'{i+1}번째={a[i%n]}')\n",
    "    i+=1"
   ]
  }
 ],
 "metadata": {
  "kernelspec": {
   "display_name": "Python 3",
   "language": "python",
   "name": "python3"
  },
  "language_info": {
   "codemirror_mode": {
    "name": "ipython",
    "version": 3
   },
   "file_extension": ".py",
   "mimetype": "text/x-python",
   "name": "python",
   "nbconvert_exporter": "python",
   "pygments_lexer": "ipython3",
   "version": "3.8.8"
  }
 },
 "nbformat": 4,
 "nbformat_minor": 5
}
