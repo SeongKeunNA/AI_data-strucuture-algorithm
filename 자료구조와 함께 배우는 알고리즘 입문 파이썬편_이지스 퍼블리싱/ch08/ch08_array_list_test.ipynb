{
 "cells": [
  {
   "cell_type": "code",
   "execution_count": 17,
   "id": "4908a50a",
   "metadata": {
    "scrolled": true
   },
   "outputs": [
    {
     "ename": "ImportError",
     "evalue": "cannot import name 'ArrayLinkedList' from 'ch08_array_list0' (ch08_array_list0.ipynb)",
     "output_type": "error",
     "traceback": [
      "\u001b[1;31m---------------------------------------------------------------------------\u001b[0m",
      "\u001b[1;31mImportError\u001b[0m                               Traceback (most recent call last)",
      "\u001b[1;32m<ipython-input-17-6b766f01ae72>\u001b[0m in \u001b[0;36m<module>\u001b[1;34m\u001b[0m\n\u001b[0;32m      3\u001b[0m \u001b[1;32mfrom\u001b[0m \u001b[0menum\u001b[0m \u001b[1;32mimport\u001b[0m \u001b[0mEnum\u001b[0m\u001b[1;33m\u001b[0m\u001b[1;33m\u001b[0m\u001b[0m\n\u001b[0;32m      4\u001b[0m \u001b[1;32mimport\u001b[0m \u001b[0mimport_ipynb\u001b[0m\u001b[1;33m\u001b[0m\u001b[1;33m\u001b[0m\u001b[0m\n\u001b[1;32m----> 5\u001b[1;33m \u001b[1;32mfrom\u001b[0m \u001b[0mch08_array_list0\u001b[0m \u001b[1;32mimport\u001b[0m \u001b[0mArrayLinkedList\u001b[0m\u001b[1;33m\u001b[0m\u001b[1;33m\u001b[0m\u001b[0m\n\u001b[0m\u001b[0;32m      6\u001b[0m \u001b[1;33m\u001b[0m\u001b[0m\n\u001b[0;32m      7\u001b[0m Menu=Enum('Menu', ['머리에노드삽입', '꼬리에노드삽입','머리노드삭제','꼬리노드삭제','주목노드출력','주목노드이동','주목노드삭제',\n",
      "\u001b[1;31mImportError\u001b[0m: cannot import name 'ArrayLinkedList' from 'ch08_array_list0' (ch08_array_list0.ipynb)"
     ]
    }
   ],
   "source": [
    "#커서를  이용한 연결 리스트 클래스 ArrayLinkedList 사용하기\n",
    "\n",
    "from enum import Enum\n",
    "import import_ipynb \n",
    "from ch08_array_list0 import ArrayLinkedList\n",
    "\n",
    "Menu=Enum('Menu', ['머리에노드삽입', '꼬리에노드삽입','머리노드삭제','꼬리노드삭제','주목노드출력','주목노드이동','주목노드삭제',\n",
    "                  '모든노드삭제','검색','멤버십판단','모든노드출력','스캔','종료'])\n",
    "\n",
    "def select_Menu()->Menu:\n",
    "    \"\"\"메뉴선택\"\"\"\n",
    "    s=[f'({m.value}){m.name}' for m in Menu]\n",
    "    while True:\n",
    "        print(*s, sep=' ', end='')\n",
    "        n=int(input(' : '))\n",
    "        if 1<=n<=len(Menu):\n",
    "            return Menu(n)\n",
    "lst=ArrayLinkedList(100)  #연결리스트를 생성\n",
    "\n",
    "while True:\n",
    "    menu=select_Menu()  #메뉴 선택\n",
    "    \n",
    "    if menu==Menu.머리에노드삽입: #맨 앞에 노드를 삽입\n",
    "        lst.add_first(int(input('머리 노드에 넣을 값을 입력하세요.: ')))\n",
    "        \n",
    "    elif menu==Menu.꼬리에노드삽입:\n",
    "        lst.add_last(int(input('꼬리 노드에 넣을 값을 입력하세요. :')))\n",
    "        \n",
    "    elif menu==Menu.머리노드삭제:\n",
    "        lst.remove_first()\n",
    "        \n",
    "    elif menu==Menu.꼬리노드삭제:\n",
    "        lst.remove_last()\n",
    "    \n",
    "    elif menu==Menu.주목노드출력:\n",
    "        lst.print_current_node()\n",
    "    \n",
    "    elif menu==Menu.주목노드이동:\n",
    "        lst.next\n",
    "    \n",
    "    elif menu==Menu.주목노드삭제:\n",
    "        lst.remove_current_node()\n",
    "    \n",
    "    elif menu==Menu.모든노드삭제:\n",
    "        lst.clear()\n",
    "    \n",
    "    elif menu==Menu.검색:\n",
    "        pos=lst.search(int(input('검색할 값을 입력하세요.: ')))\n",
    "        if pos>=0:\n",
    "            print(f'그 값의 데이터는 {pos+1}번째에 있습니다.')\n",
    "        else:\n",
    "            print('해당하는 데이터가 없습니다.')\n",
    "    \n",
    "    elif menu==Menu.멤버십판단:\n",
    "        print('그 값의 데이터는 포함되어'+(' 있습니다.' if int(input('판단할 값을 입력하세요.: ')) in lst\n",
    "                else '있지 않습니다'))\n",
    "    elif menu==Menu.모든노드출력:\n",
    "        lst.print()\n",
    "\n",
    "    elif menu==Menu.스캔:\n",
    "        for e in lst:\n",
    "            print(e)\n",
    "    else:\n",
    "        break"
   ]
  }
 ],
 "metadata": {
  "kernelspec": {
   "display_name": "Python 3",
   "language": "python",
   "name": "python3"
  },
  "language_info": {
   "codemirror_mode": {
    "name": "ipython",
    "version": 3
   },
   "file_extension": ".py",
   "mimetype": "text/x-python",
   "name": "python",
   "nbconvert_exporter": "python",
   "pygments_lexer": "ipython3",
   "version": "3.8.8"
  }
 },
 "nbformat": 4,
 "nbformat_minor": 5
}
