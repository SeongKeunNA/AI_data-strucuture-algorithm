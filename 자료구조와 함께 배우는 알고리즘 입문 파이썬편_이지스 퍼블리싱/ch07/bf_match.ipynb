{
 "cells": [
  {
   "cell_type": "code",
   "execution_count": null,
   "id": "0d0a229c",
   "metadata": {},
   "outputs": [],
   "source": []
  },
  {
   "cell_type": "code",
   "execution_count": 2,
   "id": "2e916c69",
   "metadata": {},
   "outputs": [
    {
     "name": "stdout",
     "output_type": "stream",
     "text": [
      "텍스트를 입력하세요.: ABABCDEFGHA\n",
      "패턴을 입력하세요.: ABC\n",
      "3번째 문자가 일치합니다.\n"
     ]
    }
   ],
   "source": [
    "#브루트 포스법으로 문자열 검색하기\n",
    "\n",
    "def bf_match(txt:str, pat:str)->int:\n",
    "    \"\"\"브루트 포스법으로 문자열 검색\"\"\"\n",
    "    pt=0  #txt를 따라가는 커서\n",
    "    pp=0  #pat를 따라가는 커서\n",
    "    \n",
    "    while pt!=len(txt) and pp!=len(pat):\n",
    "        if txt[pt]==pat[pp]:\n",
    "            pt+=1\n",
    "            pp+=1\n",
    "        else:\n",
    "            pt=pt-pp+1\n",
    "            pp=0\n",
    "    return pt-pp if pp==len(pat) else -1\n",
    "\n",
    "if __name__=='__main__':\n",
    "    s1=input('텍스트를 입력하세요.: ')\n",
    "    s2=input('패턴을 입력하세요.: ')\n",
    "\n",
    "    idx=bf_match(s1,s2)\n",
    "    \n",
    "    if idx==-1:\n",
    "        print('텍스트 안에 패턴이 존재하지 않습니다.')\n",
    "    else:\n",
    "        print(f'{(idx+1)}번째 문자가 일치합니다.')\n",
    "\n",
    "            "
   ]
  }
 ],
 "metadata": {
  "kernelspec": {
   "display_name": "Python 3",
   "language": "python",
   "name": "python3"
  },
  "language_info": {
   "codemirror_mode": {
    "name": "ipython",
    "version": 3
   },
   "file_extension": ".py",
   "mimetype": "text/x-python",
   "name": "python",
   "nbconvert_exporter": "python",
   "pygments_lexer": "ipython3",
   "version": "3.8.8"
  }
 },
 "nbformat": 4,
 "nbformat_minor": 5
}
