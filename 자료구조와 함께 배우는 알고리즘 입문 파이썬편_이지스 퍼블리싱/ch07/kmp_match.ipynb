{
 "cells": [
  {
   "cell_type": "code",
   "execution_count": 3,
   "id": "56cdded5",
   "metadata": {},
   "outputs": [
    {
     "name": "stdout",
     "output_type": "stream",
     "text": [
      "텍스트를 입력하세요.: ABABCDEFGHA\n",
      "패턴을 입력하세요.: ABC\n",
      "3번째 문자가 일치합니다.\n"
     ]
    }
   ],
   "source": [
    "#KMP법으로 문자열 검색하기\n",
    "\n",
    "def kmp_match(txt:str, pat:str)->int:\n",
    "    \"\"\"KMP법으로 문자열 검색\"\"\"\n",
    "    pt=1\n",
    "    pp=0\n",
    "    skip=[0]*(len(pat)+1)\n",
    "    \n",
    "    #건너뛰기 표 만들기\n",
    "    skip[pt]=0\n",
    "    while pt!=len(pat):\n",
    "        if pat[pt]==pat[pp]:\n",
    "            pt+=1\n",
    "            pp+=1\n",
    "            skip[pt]=pp\n",
    "        elif pp==0:\n",
    "            pt+=1\n",
    "            skip[pt]=pp\n",
    "        else:\n",
    "            pp=skip[pp]\n",
    "            \n",
    "    #문자열 검색하기\n",
    "    pt=pp=0\n",
    "    while pt!=len(txt) and pp!=len(pat):\n",
    "        if txt[pt]==pat[pp]:\n",
    "            pt+=1\n",
    "            pp+=1\n",
    "        elif pp==0:\n",
    "            pt+=1\n",
    "        else:\n",
    "            pp=skip[pp]\n",
    "            \n",
    "    return pt-pp if pp==len(pat) else -1\n",
    "\n",
    "if __name__=='__main__':\n",
    "    s1=input('텍스트를 입력하세요.: ')\n",
    "    s2=input('패턴을 입력하세요.: ')\n",
    "\n",
    "    idx=kmp_match(s1,s2)\n",
    "    \n",
    "    if idx==-1:\n",
    "        print('텍스트 안에 패턴이 존재하지 않습니다.')\n",
    "    else:\n",
    "        print(f'{(idx+1)}번째 문자가 일치합니다.')\n",
    "\n",
    "            \n",
    "                                                 \n",
    "    "
   ]
  }
 ],
 "metadata": {
  "kernelspec": {
   "display_name": "Python 3",
   "language": "python",
   "name": "python3"
  },
  "language_info": {
   "codemirror_mode": {
    "name": "ipython",
    "version": 3
   },
   "file_extension": ".py",
   "mimetype": "text/x-python",
   "name": "python",
   "nbconvert_exporter": "python",
   "pygments_lexer": "ipython3",
   "version": "3.8.8"
  }
 },
 "nbformat": 4,
 "nbformat_minor": 5
}
