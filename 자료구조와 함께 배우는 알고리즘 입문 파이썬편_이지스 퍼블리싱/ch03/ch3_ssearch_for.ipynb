{
 "cells": [
  {
   "cell_type": "markdown",
   "id": "9e8fa746",
   "metadata": {},
   "source": [
    "#wHILE 문 작성 선형 검색 알고리즘\n",
    "\n",
    "from typing import Any,Sequence\n",
    "\n",
    "def seq_search(a:Sequence,Key:Any)->int:\n",
    "    \"\"\"시퀀스 a에서 key와 같이 같은 원소를 선형 검색(while문)\"\"\"\n",
    "    i=0\n",
    "    \n",
    "    while True:\n",
    "        if i==len(a):\n",
    "            return -1\n",
    "    \n",
    "        if a[i]==key:\n",
    "            return i\n",
    "        \n",
    "        i+=1\n",
    "if __name__=='__main__':\n",
    "    num=int(input('원소 수를 입력하세요.: '))\n",
    "    x=[None]*num\n",
    "    \n",
    "    for i in range(num):\n",
    "        x[i]=int(input(f\"x[{i}]:\"))\n",
    "                       \n",
    "        ky=int(input('검색할 값을 입력하세요.:'))        \n",
    "        idx=seq_search(x,ky)\n",
    "                       \n",
    "        if idx== -1:\n",
    "            print(\"검색값을 갖는 우너소가 존재하지 않습니다.\")\n",
    "                \n",
    "        else:\n",
    "            print(f'검색값은 x[{idx}]에 있습니다.')\n",
    "                       \n",
    "                       \n",
    "\n",
    "\n",
    "\n"
   ]
  },
  {
   "cell_type": "code",
   "execution_count": 15,
   "id": "87c39257",
   "metadata": {},
   "outputs": [
    {
     "name": "stdout",
     "output_type": "stream",
     "text": [
      "원소 수를 입력하세요.: 1\n",
      "x[0]:2\n",
      "검색할 값을 입력하세요.:3\n",
      "검색값을 갖는 우너소가 존재하지 않습니다.\n"
     ]
    }
   ],
   "source": [
    "#wHILE 문 작성 선형 검색 알고리즘\n",
    "\n",
    "from typing import Any,Sequence\n",
    "\n",
    "def seq_search(a:Sequence,key:Any)->int: \n",
    "    \"\"\"시퀀스 a에서 key와 값이 같은 원소를 선형 검색(while문)\"\"\"\n",
    "    i=0\n",
    "\n",
    "    while True:\n",
    "        if i==len(a):\n",
    "             return -1\n",
    "\n",
    "        if a[i]==key:\n",
    "            return i\n",
    "        i+=1\n",
    "\n",
    "if __name__=='__main__':\n",
    "    num=int(input('원소 수를 입력하세요.: '))\n",
    "    x=[None]*num\n",
    "\n",
    "    for i in range(num):\n",
    "        x[i]=int(input(f'x[{i}]:'))\n",
    "\n",
    "    ky=int(input('검색할 값을 입력하세요.:'))        \n",
    "    idx=seq_search(x,ky)\n",
    "\n",
    "    if idx== -1:\n",
    "        print(\"검색값을 갖는 우너소가 존재하지 않습니다.\")\n",
    "\n",
    "    else:\n",
    "        print(f'검색값은 x[{idx}]에 있습니다.')"
   ]
  },
  {
   "cell_type": "code",
   "execution_count": 14,
   "id": "d906a79c",
   "metadata": {},
   "outputs": [],
   "source": [
    "#for 문 작성 선형 검색 알고리즘\n",
    "\n",
    "from typing import Any,Sequence\n",
    "\n",
    "def seq_search(a:Sequence, key=Any)->int:\n",
    "    for i in range(len(a)):\n",
    "        if a[i]==key:\n",
    "            return i\n",
    "        return -1"
   ]
  },
  {
   "cell_type": "code",
   "execution_count": null,
   "id": "b1b84127",
   "metadata": {},
   "outputs": [],
   "source": []
  }
 ],
 "metadata": {
  "kernelspec": {
   "display_name": "Python 3",
   "language": "python",
   "name": "python3"
  },
  "language_info": {
   "codemirror_mode": {
    "name": "ipython",
    "version": 3
   },
   "file_extension": ".py",
   "mimetype": "text/x-python",
   "name": "python",
   "nbconvert_exporter": "python",
   "pygments_lexer": "ipython3",
   "version": "3.8.8"
  }
 },
 "nbformat": 4,
 "nbformat_minor": 5
}
