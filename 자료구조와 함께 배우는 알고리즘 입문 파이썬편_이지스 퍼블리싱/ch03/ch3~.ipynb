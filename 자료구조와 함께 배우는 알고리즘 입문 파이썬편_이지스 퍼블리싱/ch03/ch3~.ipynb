{
 "cells": [
  {
   "cell_type": "code",
   "execution_count": 16,
   "id": "25e14d68",
   "metadata": {},
   "outputs": [
    {
     "name": "stdout",
     "output_type": "stream",
     "text": [
      "실수를 검색합니다.\n",
      "주의:\"End\"를 입력하면 종료합니다.\n",
      "x[0]:12.7\n",
      "x[1]:3.14\n",
      "x[2]:6.45\n",
      "x[3]:7.2\n",
      "x[4]:End\n",
      "검색할 값을 입력하세요.:6.4\n",
      "찾는값없음.\n",
      "[12.7, 3.14, 6.45, 7.2]\n"
     ]
    }
   ],
   "source": [
    "#seq_searcg_for활용 실수 검색\n",
    "\n",
    "from ch3_ssearch_for import seq_search\n",
    "\n",
    "print('실수를 검색합니다.')\n",
    "print('주의:\"End\"를 입력하면 종료합니다.')\n",
    "\n",
    "number=0\n",
    "x=[]\n",
    "\n",
    "while True:\n",
    "    s=input(f'x[{number}]:')\n",
    "    if s=='End':\n",
    "        break\n",
    "    x.append(float(s))\n",
    "    number+=1\n",
    "\n",
    "ky=float(input('검색할 값을 입력하세요.:'))\n",
    "\n",
    "idx=seq_search(x,ky)\n",
    "if idx==-1:\n",
    "    print(\"찾는값없음.\")\n",
    "    print(x)\n",
    "else:\n",
    "    print(f'검색ㄱ밧은 x[{idx}]에 있습니다.')"
   ]
  },
  {
   "cell_type": "code",
   "execution_count": 2,
   "id": "34ff02ad",
   "metadata": {},
   "outputs": [],
   "source": [
    "import os"
   ]
  },
  {
   "cell_type": "code",
   "execution_count": 5,
   "id": "3e65b356",
   "metadata": {},
   "outputs": [
    {
     "data": {
      "text/plain": [
       "'C:\\\\Users\\\\najonggeun'"
      ]
     },
     "execution_count": 5,
     "metadata": {},
     "output_type": "execute_result"
    }
   ],
   "source": [
    "os.getcwd()\n"
   ]
  },
  {
   "cell_type": "code",
   "execution_count": 7,
   "id": "0a2dffe9",
   "metadata": {},
   "outputs": [
    {
     "name": "stdout",
     "output_type": "stream",
     "text": [
      "Requirement already satisfied: import_ipynb in d:\\userdata\\anaconda3\\lib\\site-packages (0.1.3)Note: you may need to restart the kernel to use updated packages.\n",
      "\n"
     ]
    }
   ],
   "source": [
    "pip install import_ipynb"
   ]
  },
  {
   "cell_type": "code",
   "execution_count": 1,
   "id": "2313c8e4",
   "metadata": {},
   "outputs": [
    {
     "ename": "ModuleNotFoundError",
     "evalue": "No module named 'ch3_ssearch_for'",
     "output_type": "error",
     "traceback": [
      "\u001b[1;31m---------------------------------------------------------------------------\u001b[0m",
      "\u001b[1;31mModuleNotFoundError\u001b[0m                       Traceback (most recent call last)",
      "\u001b[1;32m<ipython-input-1-417ea2510094>\u001b[0m in \u001b[0;36m<module>\u001b[1;34m\u001b[0m\n\u001b[0;32m      1\u001b[0m \u001b[1;31m#seq_search()함수를 사용하여 특정 인덱스 검색하기\u001b[0m\u001b[1;33m\u001b[0m\u001b[1;33m\u001b[0m\u001b[1;33m\u001b[0m\u001b[0m\n\u001b[0;32m      2\u001b[0m \u001b[1;33m\u001b[0m\u001b[0m\n\u001b[1;32m----> 3\u001b[1;33m \u001b[1;32mfrom\u001b[0m \u001b[0mch3_ssearch_for\u001b[0m \u001b[1;32mimport\u001b[0m \u001b[0mseq_search\u001b[0m\u001b[1;33m\u001b[0m\u001b[1;33m\u001b[0m\u001b[0m\n\u001b[0m\u001b[0;32m      4\u001b[0m \u001b[1;33m\u001b[0m\u001b[0m\n\u001b[0;32m      5\u001b[0m \u001b[0mt\u001b[0m\u001b[1;33m=\u001b[0m\u001b[1;33m(\u001b[0m\u001b[1;36m4\u001b[0m\u001b[1;33m,\u001b[0m\u001b[1;36m7\u001b[0m\u001b[1;33m,\u001b[0m\u001b[1;36m5.6\u001b[0m\u001b[1;33m,\u001b[0m\u001b[1;36m2\u001b[0m\u001b[1;33m,\u001b[0m\u001b[1;36m3.14\u001b[0m\u001b[1;33m,\u001b[0m\u001b[1;36m1\u001b[0m\u001b[1;33m)\u001b[0m\u001b[1;33m\u001b[0m\u001b[1;33m\u001b[0m\u001b[0m\n",
      "\u001b[1;31mModuleNotFoundError\u001b[0m: No module named 'ch3_ssearch_for'"
     ]
    }
   ],
   "source": [
    "#seq_search()함수를 사용하여 특정 인덱스 검색하기\n",
    "\n",
    "from ch3_ssearch_for import seq_search\n",
    "\n",
    "t=(4,7,5.6,2,3.14,1)\n",
    "s='string'\n",
    "a=['DTS','AAC','FLAC']\n",
    "\n",
    "print(f'{t}에서 5.6의 인덱스는 {seq_search(t, 5.6)}입니다.')\n",
    "print(f'{s}에서 \"n\"의 인덱스는{seq_search(s, \"n\")}입니다.')\n",
    "print(f'{a}에서 \"DTS\"의 인덱스는 {seq_search(a, \"DTS\")}입니다.')\n",
    "      \n",
    "      "
   ]
  },
  {
   "cell_type": "code",
   "execution_count": null,
   "id": "761a8d8a",
   "metadata": {},
   "outputs": [],
   "source": [
    "#선형 검색 알고리즘을 보초법으로 수정\n",
    "\n",
    "from typing import Any,Sequence\n",
    "import copy\n",
    "\n",
    "def seq_search(seq:Sequence, key:any)->int:\n",
    "    a=copy.deepcopy(seq)\n",
    "    a.append(key)\n",
    "    \n",
    "    i=0\n",
    "    while True:\n",
    "        if a[i]==key:\n",
    "            break\n",
    "        i+=1\n",
    "    return -1 if i==len(seq) else i\n",
    "\n",
    "if __name__==\"__main__\":\n",
    "    num=int(input('원소 수를 입력하세요.:'))\n",
    "    x=[None]*num\n",
    "    \n",
    "    for i in range(num):\n",
    "        x[i]=int(input(f'x[{i}]:'))\n",
    "    ky=int(input('검색할 값을 입력하세요.:'))\n",
    "    \n",
    "    idx=seq_search(x,ky)\n",
    "    \n",
    "    if idx==-1:\n",
    "        print(\"검색값을 갖는 원소가 존재하지 않습니다.\")\n",
    "    else:\n",
    "        print(f'검색값은 x[{idx}]에 있습니다.')"
   ]
  },
  {
   "cell_type": "markdown",
   "id": "31689eca",
   "metadata": {},
   "source": [
    "\n",
    "\n"
   ]
  },
  {
   "cell_type": "code",
   "execution_count": null,
   "id": "0e26eac6",
   "metadata": {},
   "outputs": [],
   "source": [
    "#이진 검색 알고리즘\n",
    "\n",
    "from typing import Any, Sequence\n",
    "\n",
    "def bin_search(a:Sequence, key:Any)->int:\n",
    "    \"\"\"시퀀스 a에서 key와 일치하는 원소를 이진 검색\"\"\"\n",
    "    \n",
    "    pl=0\n",
    "    pr=len(a)-1\n",
    "    \n",
    "    while True:\n",
    "        pc=(pl+pr)//2\n",
    "        if a[pc]==key:\n",
    "            return pc\n",
    "        elif a[pc]<key:\n",
    "            pl=pc+1\n",
    "        else:\n",
    "            pr=pc-1\n",
    "        if pl>pr:\n",
    "            break\n",
    "    return -1\n",
    "\n",
    "if __name__==\"__main__\":\n",
    "    num=int(input('원소 수를 입력하세요.:'))\n",
    "    x=[None]*num\n",
    "    \n",
    "    print('배열 데이터를 오름차순으로 입력하세요.')\n",
    "    \n",
    "    x[0]=int(input('x[0]:'))\n",
    "    \n",
    "    for i in range(1,num):\n",
    "        while True:\n",
    "            x[i]=int(input(f'x[{i}]:'))\n",
    "            if  x[i]>=x[i-1]:\n",
    "                break\n",
    "    \n",
    "    ky=int(input('검색할 값을 입력하세요.:'))\n",
    "    \n",
    "    idx=bin_search(x,ky)\n",
    "    \n",
    "    if idx==-1:\n",
    "        print('검색값을 갖는 원소가 존재하지 않습니다.')\n",
    "    else:\n",
    "        print(f'검색값은 x[{idx}]에 있습니다.')\n"
   ]
  },
  {
   "cell_type": "code",
   "execution_count": 1,
   "id": "540dbc8e",
   "metadata": {},
   "outputs": [
    {
     "ename": "SyntaxError",
     "evalue": "invalid syntax (<ipython-input-1-d56426f7ce1d>, line 15)",
     "output_type": "error",
     "traceback": [
      "\u001b[1;36m  File \u001b[1;32m\"<ipython-input-1-d56426f7ce1d>\"\u001b[1;36m, line \u001b[1;32m15\u001b[0m\n\u001b[1;33m    while True:\u001b[0m\n\u001b[1;37m    ^\u001b[0m\n\u001b[1;31mSyntaxError\u001b[0m\u001b[1;31m:\u001b[0m invalid syntax\n"
     ]
    }
   ],
   "source": [
    "#이진 검색 알고리즘의 실행 과정을 출력\n",
    "from typing import Any, Sequence\n",
    "def bin_search(a:Sequence, key:Any)->int:\n",
    "    \"\"\"시퀀스 a에서 key와 일치하는 원소를 이진 검색(실행 과정을 출력)\"\"\"\n",
    "    \n",
    "    pl=0\n",
    "    pr=len(a)-1\n",
    "    \n",
    "    print(' |',end='')\n",
    "    for i in range(len(a)):\n",
    "        print(f'{i:4}',end='')\n",
    "    print()\n",
    "    print('---+' + (4*(len(a)+2)*'-')\n",
    "          \n",
    "    while True:\n",
    "          pc=(pl+pr)//2\n",
    "          \n",
    "          print(' |',end='')\n",
    "          if pl\n",
    "          !=pc:\n",
    "              print((pl*4+1)*' '+'<-'+(pl-pl)*4)*' '+'+',end='')\n",
    "    \n"
   ]
  },
  {
   "cell_type": "code",
   "execution_count": 5,
   "id": "305dcbb9",
   "metadata": {},
   "outputs": [
    {
     "ename": "SyntaxError",
     "evalue": "invalid syntax (<ipython-input-5-4ac3b8ce9153>, line 10)",
     "output_type": "error",
     "traceback": [
      "\u001b[1;36m  File \u001b[1;32m\"<ipython-input-5-4ac3b8ce9153>\"\u001b[1;36m, line \u001b[1;32m10\u001b[0m\n\u001b[1;33m    def__init__(self, key:Any ,value:Any,next:Node)->None:\u001b[0m\n\u001b[1;37m                         ^\u001b[0m\n\u001b[1;31mSyntaxError\u001b[0m\u001b[1;31m:\u001b[0m invalid syntax\n"
     ]
    }
   ],
   "source": [
    "#체인법으로 해시 함수 구현하기\n",
    "\n",
    "from __future__ import annotations\n",
    "from typing import Any,Type\n",
    "import hashlib\n",
    "\n",
    "class Node:\n",
    "    \"\"\"해시를 구성하는 노드\"\"\"\n",
    "    \n",
    "    def__init__(self, key:Any ,value:Any, next:Node)->None:\n",
    "        \"\"\"초기화\"\"\"\n",
    "        self.key=key\n",
    "        self.value=value\n",
    "        self.next=next\n",
    "class ChainHash:\n",
    "    \"\"\"체인법으로 해시 클래스 구현\"\"\"\n",
    "    \n",
    "    def __init__(self,capacity:int)->None:\n",
    "        \"\"\"초기화\"\"\"\n",
    "        self.capacity=capacity\n",
    "        self.table=[None]*self.capacity\n",
    "        \n",
    "    def hash_Value(self,key:Any)->int:\n",
    "        \"\"\"해시값을 구함\"\"\"\n",
    "        if isinstance(key, int):\n",
    "            return key%self.capacity\n",
    "        return(int(hashlib.sha256(str(key).encode()).hexdigest(), 16) % self.capacity)\n",
    "    def search(self,key:Any)->Any:\n",
    "        \"\"\"키가 key인 원소를 검색하여 값을 반환\"\"\"\n",
    "        hash=self.hash_value(key)\n",
    "        p=self.table[hash]\n",
    "        \n",
    "        while p is not None:\n",
    "            if p.key==key:\n",
    "                return p.value\n",
    "            p=p.next\n",
    "        return None\n",
    "    \n",
    "    def add(self, key:Any, value:Any)->bool:\n",
    "        \"\"\"키가 key이고 값이 value인 원소를 추가\"\"\"\n",
    "        \n",
    "        hash=self.hash_value(key)\n",
    "        p=self.table[hash]\n",
    "        \n",
    "        while p is not None:\n",
    "            if p.key==key:\n",
    "                return False\n",
    "            p=p.next\n",
    "            \n",
    "        temp=Node(key,value,self.table[hash])\n",
    "        self.table[hash]=temp\n",
    "        return True\n",
    "        \n",
    "    def remove(self,key:Any) -> bool:\n",
    "        \"\"\"키가 key인 원소를 삭제\"\"\"\n",
    "        hash=self.hash_value(key)\n",
    "        p=self.table[hash]\n",
    "        pp=None\n",
    "        \n",
    "        while p is not None:\n",
    "            if p.key==key:\n",
    "                if pp is None:\n",
    "                    self.table[hash]=p.next\n",
    "                else:\n",
    "                    pp.next=p.next\n",
    "                return True\n",
    "            pp=p\n",
    "            p=p.next\n",
    "        return False\n",
    "    \n",
    "    de\n",
    "        "
   ]
  },
  {
   "cell_type": "code",
   "execution_count": null,
   "id": "0d4c82e1",
   "metadata": {},
   "outputs": [],
   "source": []
  }
 ],
 "metadata": {
  "kernelspec": {
   "display_name": "Python 3",
   "language": "python",
   "name": "python3"
  },
  "language_info": {
   "codemirror_mode": {
    "name": "ipython",
    "version": 3
   },
   "file_extension": ".py",
   "mimetype": "text/x-python",
   "name": "python",
   "nbconvert_exporter": "python",
   "pygments_lexer": "ipython3",
   "version": "3.8.8"
  }
 },
 "nbformat": 4,
 "nbformat_minor": 5
}
