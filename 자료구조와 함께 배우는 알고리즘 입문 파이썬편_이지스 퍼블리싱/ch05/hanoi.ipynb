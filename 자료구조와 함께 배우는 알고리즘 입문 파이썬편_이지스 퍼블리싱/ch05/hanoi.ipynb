{
 "cells": [
  {
   "cell_type": "code",
   "execution_count": 1,
   "id": "c857a3ae",
   "metadata": {},
   "outputs": [
    {
     "name": "stdout",
     "output_type": "stream",
     "text": [
      "하노이의 탑을 구현합니다.\n",
      "원반의 개수를 입력하세요.: 3\n",
      "원반 [1]을(를) 1 기둥에서 3기둥으로 옮김니다.\n",
      "원반 [2]을(를) 1 기둥에서 2기둥으로 옮김니다.\n",
      "원반 [1]을(를) 3 기둥에서 2기둥으로 옮김니다.\n",
      "원반 [3]을(를) 1 기둥에서 3기둥으로 옮김니다.\n",
      "원반 [1]을(를) 2 기둥에서 1기둥으로 옮김니다.\n",
      "원반 [2]을(를) 2 기둥에서 3기둥으로 옮김니다.\n",
      "원반 [1]을(를) 1 기둥에서 3기둥으로 옮김니다.\n"
     ]
    }
   ],
   "source": [
    "#하노이의 탑 구현하기\n",
    "\n",
    "def move(no:int, x:int, y:int)->None:\n",
    "    \"\"\"원반 n개를 x기둥에서 y기둥으로 옮김\"\"\"\n",
    "    if no>1:\n",
    "        move(no-1, x, 6-x-y)\n",
    "        \n",
    "    print(f'원반 [{no}]을(를) {x} 기둥에서 {y}기둥으로 옮김니다.')\n",
    "    \n",
    "    if no>1:\n",
    "        move(no-1,6-x-y,y)\n",
    "        \n",
    "print('하노이의 탑을 구현합니다.')\n",
    "n=int(input('원반의 개수를 입력하세요.: '))\n",
    "\n",
    "move(n,1,3) #1기둥에서 쌓인 원반 n개를 3기둥으로 옮김"
   ]
  }
 ],
 "metadata": {
  "kernelspec": {
   "display_name": "Python 3",
   "language": "python",
   "name": "python3"
  },
  "language_info": {
   "codemirror_mode": {
    "name": "ipython",
    "version": 3
   },
   "file_extension": ".py",
   "mimetype": "text/x-python",
   "name": "python",
   "nbconvert_exporter": "python",
   "pygments_lexer": "ipython3",
   "version": "3.8.8"
  }
 },
 "nbformat": 4,
 "nbformat_minor": 5
}
