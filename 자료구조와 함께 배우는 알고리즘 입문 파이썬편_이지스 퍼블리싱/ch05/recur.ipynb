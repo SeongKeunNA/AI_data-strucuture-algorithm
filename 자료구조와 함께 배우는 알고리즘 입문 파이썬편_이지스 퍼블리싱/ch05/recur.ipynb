{
 "cells": [
  {
   "cell_type": "code",
   "execution_count": 1,
   "id": "ec39d09d",
   "metadata": {},
   "outputs": [
    {
     "name": "stdout",
     "output_type": "stream",
     "text": [
      "정숫값을 입력하세요.: 4\n",
      "1\n",
      "2\n",
      "3\n",
      "1\n",
      "4\n",
      "1\n",
      "2\n"
     ]
    }
   ],
   "source": [
    "#순수한 재귀 함수 구현하기\n",
    "\n",
    "def recur(n:int)->int:\n",
    "    \"\"\"순수한 재귀 함수 recur의 구현\"\"\"\n",
    "    if n>0:\n",
    "        recur(n-1)\n",
    "        print(n)\n",
    "        recur(n-2)\n",
    "x=int(input('정숫값을 입력하세요.: '))\n",
    "\n",
    "recur(x)"
   ]
  }
 ],
 "metadata": {
  "kernelspec": {
   "display_name": "Python 3",
   "language": "python",
   "name": "python3"
  },
  "language_info": {
   "codemirror_mode": {
    "name": "ipython",
    "version": 3
   },
   "file_extension": ".py",
   "mimetype": "text/x-python",
   "name": "python",
   "nbconvert_exporter": "python",
   "pygments_lexer": "ipython3",
   "version": "3.8.8"
  }
 },
 "nbformat": 4,
 "nbformat_minor": 5
}
