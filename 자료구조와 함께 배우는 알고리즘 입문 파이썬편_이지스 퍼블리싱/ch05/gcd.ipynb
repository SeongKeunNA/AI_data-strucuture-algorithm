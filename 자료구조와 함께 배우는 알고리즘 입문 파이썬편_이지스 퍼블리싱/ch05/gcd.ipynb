{
 "cells": [
  {
   "cell_type": "code",
   "execution_count": 1,
   "id": "f5d54a16",
   "metadata": {},
   "outputs": [
    {
     "name": "stdout",
     "output_type": "stream",
     "text": [
      "두 정숫값의 최대 공약수를 구합니다.\n",
      "첫 번째 정숫값을 입력하세요.: 22\n",
      "두 번째 정숫값을 입력하세요.: 8\n",
      "두 정숫값의 최대 공약수는 2입니다.\n"
     ]
    }
   ],
   "source": [
    "#유클리드 호제법으로 최대 공약수 구하기\n",
    "\n",
    "def gcd(x:int, y:int)->int:\n",
    "    \"\"\"정숫값 x와 y의 최대 공약수를 반환\"\"\"\n",
    "    if y==0:\n",
    "        return x\n",
    "    else:\n",
    "        return gcd(y,x%y)\n",
    "\n",
    "if __name__=='__main__':\n",
    "    print('두 정숫값의 최대 공약수를 구합니다.')\n",
    "    \n",
    "    x=int(input('첫 번째 정숫값을 입력하세요.: '))\n",
    "    y=int(input('두 번째 정숫값을 입력하세요.: '))\n",
    "    \n",
    "    print(f'두 정숫값의 최대 공약수는 {gcd(x,y)}입니다.')"
   ]
  }
 ],
 "metadata": {
  "kernelspec": {
   "display_name": "Python 3",
   "language": "python",
   "name": "python3"
  },
  "language_info": {
   "codemirror_mode": {
    "name": "ipython",
    "version": 3
   },
   "file_extension": ".py",
   "mimetype": "text/x-python",
   "name": "python",
   "nbconvert_exporter": "python",
   "pygments_lexer": "ipython3",
   "version": "3.8.8"
  }
 },
 "nbformat": 4,
 "nbformat_minor": 5
}
