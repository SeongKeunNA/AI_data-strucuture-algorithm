{
 "cells": [
  {
   "cell_type": "code",
   "execution_count": 1,
   "id": "3cbc4ea8",
   "metadata": {},
   "outputs": [
    {
     "name": "stdout",
     "output_type": "stream",
     "text": [
      "정숫값을 입력하세요.: 4\n",
      "1\n",
      "2\n",
      "3\n",
      "1\n",
      "4\n",
      "1\n",
      "2\n"
     ]
    }
   ],
   "source": [
    "#비재귀적으로 재귀 함수 구현하기(꼬리 재귀를 제거)\n",
    "\n",
    "def recur(n:int)->int:\n",
    "    \"\"\"꼬리 재귀를 제거한 recur()함수\"\"\"\n",
    "    \n",
    "    while n>0:\n",
    "        recur(n-1)\n",
    "        print(n)\n",
    "        n=n-2\n",
    "        \n",
    "x=int(input('정숫값을 입력하세요.: '))\n",
    "recur(x)\n",
    "             "
   ]
  }
 ],
 "metadata": {
  "kernelspec": {
   "display_name": "Python 3",
   "language": "python",
   "name": "python3"
  },
  "language_info": {
   "codemirror_mode": {
    "name": "ipython",
    "version": 3
   },
   "file_extension": ".py",
   "mimetype": "text/x-python",
   "name": "python",
   "nbconvert_exporter": "python",
   "pygments_lexer": "ipython3",
   "version": "3.8.8"
  }
 },
 "nbformat": 4,
 "nbformat_minor": 5
}
