{
 "cells": [
  {
   "cell_type": "code",
   "execution_count": 2,
   "id": "320e2977",
   "metadata": {},
   "outputs": [],
   "source": [
    "#고정 길이 스택 클래스 구현하기 (collections.deque 사용)\n",
    "\n",
    "from typing import Any\n",
    "from collections import deque\n",
    "\n",
    "class Stack:\n",
    "    \"\"\"고정길이스택클래스\"\"\"\n",
    "    \n",
    "    def __init__(self, maxlen:int=256)->None:\n",
    "        \"\"\"스택초기화\"\"\"\n",
    "        self.capacity=maxlen\n",
    "        self.__stk=deque([], maxlen)\n",
    "        \n",
    "    def __len__(self)->int:\n",
    "        \"\"\"스택에  쌓여 있는 데이터 개수를 반환\"\"\"\n",
    "        return len(self.__stk)\n",
    "    \n",
    "    def is_empty(self)->bool:\n",
    "        return not self.__stk\n",
    "    \n",
    "    def is_full(self)->bool:\n",
    "        return len(self.__stk)==self.__stk.maxlen\n",
    "    \n",
    "    def push(self, value:Any)->None:\n",
    "        self.__stk.append(value)\n",
    "        \n",
    "    def pop(self)->Any:\n",
    "        return self.__stk.pop()\n",
    "    \n",
    "    def peek(self)->Any:\n",
    "        return self.__stk[-1]\n",
    "    \n",
    "    def clear(self)->None:\n",
    "        self.__stk.clear()\n",
    "        \n",
    "    def find(self, value:Any)->Any:\n",
    "        try:\n",
    "            return self.__stk.index(value)\n",
    "        except ValueError:\n",
    "            return -1\n",
    "    def count(self, value:Any)->int:\n",
    "        return self.__stk.count(value)\n",
    "    \n",
    "\n",
    "    def __contatins__(self,value:Any)->bool:\n",
    "        return self.count(value)\n",
    "    \n",
    "    def  dump(self)->int:\n",
    "        print(list(self.__stk))"
   ]
  }
 ],
 "metadata": {
  "kernelspec": {
   "display_name": "Python 3",
   "language": "python",
   "name": "python3"
  },
  "language_info": {
   "codemirror_mode": {
    "name": "ipython",
    "version": 3
   },
   "file_extension": ".py",
   "mimetype": "text/x-python",
   "name": "python",
   "nbconvert_exporter": "python",
   "pygments_lexer": "ipython3",
   "version": "3.8.8"
  }
 },
 "nbformat": 4,
 "nbformat_minor": 5
}
