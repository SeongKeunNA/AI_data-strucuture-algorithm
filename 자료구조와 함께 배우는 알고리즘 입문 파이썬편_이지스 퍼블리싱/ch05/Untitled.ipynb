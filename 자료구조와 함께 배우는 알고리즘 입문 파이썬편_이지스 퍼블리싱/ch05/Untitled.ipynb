{
 "cells": [
  {
   "cell_type": "code",
   "execution_count": null,
   "id": "a075f82c",
   "metadata": {},
   "outputs": [],
   "source": [
    "#행과 열에 퀸을 1개 배치하는 조합을 재귀적으로 나열하기\n",
    "\n",
    "pos=[0]*8 #각 열에서 퀸의 위치\n",
    "flag=[False]*8 #각 행에 퀸을 배치했는지 체크\n",
    "\n",
    "def put()->None:\n",
    "    \"\"\"각 열에 배치한 퀸의 위치를 출력\"\"\"\n",
    "    for i in range(8):\n",
    "        print(f'{pos[i]:2}',end='')\n",
    "    print()\n",
    "    \n",
    "def set(i:int)->None:\n",
    "    \"\"\"i열의 알맞은 위치에 퀸을 배치\"\"\"\n",
    "    for j in range(8):\n",
    "        if not flag[j]: #j행에 퀸을 배치하지 않았으면\n",
    "            pos[i]=j \n",
    "            if i==7:\n",
    "                put()\n",
    "            else:\n",
    "                flag[j]=True\n",
    "                set(i+1)\n",
    "                flag[j]=False                                                                                                                                                                                                                                                                                                                                                                                                                                                                                                                                                                                                                                                                                                                                                                                                                                                                                                                                                                                                                                                                                                 "
   ]
  }
 ],
 "metadata": {
  "kernelspec": {
   "display_name": "Python 3",
   "language": "python",
   "name": "python3"
  },
  "language_info": {
   "codemirror_mode": {
    "name": "ipython",
    "version": 3
   },
   "file_extension": ".py",
   "mimetype": "text/x-python",
   "name": "python",
   "nbconvert_exporter": "python",
   "pygments_lexer": "ipython3",
   "version": "3.8.8"
  }
 },
 "nbformat": 4,
 "nbformat_minor": 5
}
