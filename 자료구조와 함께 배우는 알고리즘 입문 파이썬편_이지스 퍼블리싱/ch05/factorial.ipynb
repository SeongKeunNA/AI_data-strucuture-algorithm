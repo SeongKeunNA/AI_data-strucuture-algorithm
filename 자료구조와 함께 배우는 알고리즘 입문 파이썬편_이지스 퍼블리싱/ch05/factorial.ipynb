{
 "cells": [
  {
   "cell_type": "code",
   "execution_count": 2,
   "id": "4afc0bc1",
   "metadata": {},
   "outputs": [
    {
     "name": "stdout",
     "output_type": "stream",
     "text": [
      "출력할 팩토리얼값을 입력하세요.: 3\n",
      "3의 팩토리얼 값은 6입니다.\n"
     ]
    }
   ],
   "source": [
    "#양의 정수 n의 팩토리얼 구하기\n",
    "\n",
    "def factorial(n:int)->int:\n",
    "    \"\"\"양의 정수 n의 팩토리얼 값을 재귀적으로 구함\"\"\"\n",
    "    if n>0:\n",
    "        return n* factorial(n-1)\n",
    "    else:\n",
    "        return 1\n",
    "    \n",
    "if __name__=='__main__':\n",
    "    n=int(input('출력할 팩토리얼값을 입력하세요.: '))\n",
    "    print(f'{n}의 팩토리얼 값은 {factorial(n)}입니다.')"
   ]
  }
 ],
 "metadata": {
  "kernelspec": {
   "display_name": "Python 3",
   "language": "python",
   "name": "python3"
  },
  "language_info": {
   "codemirror_mode": {
    "name": "ipython",
    "version": 3
   },
   "file_extension": ".py",
   "mimetype": "text/x-python",
   "name": "python",
   "nbconvert_exporter": "python",
   "pygments_lexer": "ipython3",
   "version": "3.8.8"
  }
 },
 "nbformat": 4,
 "nbformat_minor": 5
}
