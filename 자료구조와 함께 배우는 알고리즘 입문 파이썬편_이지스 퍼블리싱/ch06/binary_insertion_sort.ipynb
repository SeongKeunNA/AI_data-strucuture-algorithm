{
 "cells": [
  {
   "cell_type": "code",
   "execution_count": 2,
   "id": "8c8e0657",
   "metadata": {},
   "outputs": [
    {
     "name": "stdout",
     "output_type": "stream",
     "text": [
      "이진 삽입 정렬을 수행합니다.\n",
      "원소 수를 입력하세요.: 7\n",
      "x[0]: 6\n",
      "x[1]: 4\n",
      "x[2]: 3\n",
      "x[3]: 7\n",
      "x[4]: 1\n",
      "x[5]: 9\n",
      "x[6]: 8\n",
      "오름차순으로 정렬했습니다.\n",
      "x[0]=1\n",
      "x[1]=3\n",
      "x[2]=4\n",
      "x[3]=6\n",
      "x[4]=7\n",
      "x[5]=8\n",
      "x[6]=9\n"
     ]
    }
   ],
   "source": [
    "#이진 삽입 정렬 알고리즘 구현하기\n",
    "\n",
    "from typing import MutableSequence\n",
    "\n",
    "def binary_insertion_sort(a:MutableSequence)->None:\n",
    "    \"\"\"이진 삽입 정렬\"\"\"\n",
    "    n=len(a)\n",
    "    for i in range(1,n):\n",
    "        key=a[i]\n",
    "        pl=0  #검색 범위의 맨 앞 원소 인덱스\n",
    "        pr=i-1  #검색 범위의 맨 뒤 원소 인덱스\n",
    "        \n",
    "        while True:\n",
    "            pc=(pl+pr)//2 #검색 범위의 가운데 원소 인덱스\n",
    "            if a[pc]==key: \n",
    "                break\n",
    "            elif a[pc]<key:\n",
    "                pl=pc+1\n",
    "            else:\n",
    "                pr=pc-1\n",
    "            if pl>pr:\n",
    "                break\n",
    "                \n",
    "        pd=pc+1 if pl <=pr else pr+1 #삽입해야 할 위치의 인덱스\n",
    "        \n",
    "        for j in range(i,pd,-1):\n",
    "            a[j]=a[j-1]\n",
    "        a[pd]=key\n",
    "        \n",
    "        \n",
    "if __name__=='__main__':\n",
    "    print('이진 삽입 정렬을 수행합니다.')\n",
    "    num=int(input('원소 수를 입력하세요.: '))\n",
    "    x=[None]*num #원소 수가 num인 배열을 생성\n",
    "    \n",
    "    for i in range(num):\n",
    "        x[i]=int(input(f'x[{i}]: '))\n",
    "        \n",
    "    binary_insertion_sort(x)\n",
    "    \n",
    "    print('오름차순으로 정렬했습니다.')\n",
    "    for i in range(num):\n",
    "        print(f'x[{i}]={x[i]}')\n",
    "                "
   ]
  }
 ],
 "metadata": {
  "kernelspec": {
   "display_name": "Python 3",
   "language": "python",
   "name": "python3"
  },
  "language_info": {
   "codemirror_mode": {
    "name": "ipython",
    "version": 3
   },
   "file_extension": ".py",
   "mimetype": "text/x-python",
   "name": "python",
   "nbconvert_exporter": "python",
   "pygments_lexer": "ipython3",
   "version": "3.8.8"
  }
 },
 "nbformat": 4,
 "nbformat_minor": 5
}
