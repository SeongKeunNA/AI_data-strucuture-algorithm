{
 "cells": [
  {
   "cell_type": "code",
   "execution_count": 1,
   "id": "cca61d3d",
   "metadata": {},
   "outputs": [
    {
     "name": "stdout",
     "output_type": "stream",
     "text": [
      "퀵 정렬을 수행합니다.\n",
      "원소 수를 입력하세요.: 9\n",
      "x[0]: 5\n",
      "x[1]: 8\n",
      "x[2]: 4\n",
      "x[3]: 2\n",
      "x[4]: 6\n",
      "x[5]: 1\n",
      "x[6]: 3\n",
      "x[7]: 9\n",
      "x[8]: 7\n",
      "a[0]~a[8]: 5 8 4 2 6 1 3 9 7\n",
      "a[0]~a[4]: 5 3 4 2 1\n",
      "a[0]~a[2]: 1 3 2\n",
      "a[0]~a[1]: 1 2\n",
      "a[3]~a[4]: 4 5\n",
      "a[5]~a[8]: 6 8 9 7\n",
      "a[5]~a[6]: 6 7\n",
      "a[7]~a[8]: 9 8\n",
      "오름차순으로 정렬했습니다.\n",
      "x[0]=1\n",
      "x[1]=2\n",
      "x[2]=3\n",
      "x[3]=4\n",
      "x[4]=5\n",
      "x[5]=6\n",
      "x[6]=7\n",
      "x[7]=8\n",
      "x[8]=9\n"
     ]
    }
   ],
   "source": [
    "#퀵 정렬 알고리즘 구현하기(배열을 나누는 과정 출력)\n",
    "\n",
    "from typing import MutableSequence\n",
    "\n",
    "def qsort(a:MutableSequence, left:int, right:int)->None:\n",
    "    \"\"\"a[left]~a[rjght]를 퀵 정렬\"\"\"\n",
    "    pl=left\n",
    "    pr=right\n",
    "    x=a[(left+right)//2] #피벗\n",
    "    \n",
    "    print(f'a[{left}]~a[{right}]:', *a[left:right+1]) \n",
    "    \n",
    "    while pl<=pr:\n",
    "        while a[pl]<x: pl+=1\n",
    "        while a[pr]>x: pr-=1\n",
    "        if pl<=pr:\n",
    "            a[pl],a[pr]=a[pr],a[pl]\n",
    "            pl+=1\n",
    "            pr-=1\n",
    "            \n",
    "    if left < pr:\n",
    "        qsort(a, left, pr)\n",
    "    if pl < right:\n",
    "        qsort(a,pl,right)\n",
    "        \n",
    "        \n",
    "def quick_sort(a:MutableSequence)->None:\n",
    "    \"\"\"퀵 정렬\"\"\"\n",
    "    qsort(a,0,len(a)-1)\n",
    "    \n",
    "if __name__ =='__main__':\n",
    "    print('퀵 정렬을 수행합니다.')\n",
    "    num=int(input('원소 수를 입력하세요.: '))\n",
    "    x=[None]*num\n",
    "    \n",
    "    for i in range(num):\n",
    "        x[i]=int(input(f'x[{i}]: '))\n",
    "    \n",
    "    quick_sort(x)\n",
    "                 \n",
    "    print('오름차순으로 정렬했습니다.')\n",
    "    for i in range(num):\n",
    "         print(f'x[{i}]={x[i]}')\n",
    "                     "
   ]
  }
 ],
 "metadata": {
  "kernelspec": {
   "display_name": "Python 3",
   "language": "python",
   "name": "python3"
  },
  "language_info": {
   "codemirror_mode": {
    "name": "ipython",
    "version": 3
   },
   "file_extension": ".py",
   "mimetype": "text/x-python",
   "name": "python",
   "nbconvert_exporter": "python",
   "pygments_lexer": "ipython3",
   "version": "3.8.8"
  }
 },
 "nbformat": 4,
 "nbformat_minor": 5
}
