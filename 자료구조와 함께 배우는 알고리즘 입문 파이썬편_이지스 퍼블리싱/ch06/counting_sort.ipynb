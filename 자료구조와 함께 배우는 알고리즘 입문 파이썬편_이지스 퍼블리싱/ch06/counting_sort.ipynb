{
 "cells": [
  {
   "cell_type": "code",
   "execution_count": 2,
   "id": "eb4fb33e",
   "metadata": {},
   "outputs": [
    {
     "name": "stdout",
     "output_type": "stream",
     "text": [
      "도수 정렬을 수행합니다.\n",
      "원소 수를 입력하세요.: 7\n",
      "x[0]:22\n",
      "x[1]:5\n",
      "x[2]:11\n",
      "x[3]:32\n",
      "x[4]:99\n",
      "x[5]:68\n",
      "x[6]:70\n",
      "오름차순으로 정렬했습니다.\n",
      "x[0]=5\n",
      "x[1]=11\n",
      "x[2]=22\n",
      "x[3]=32\n",
      "x[4]=68\n",
      "x[5]=70\n",
      "x[6]=99\n"
     ]
    }
   ],
   "source": [
    "#도수 정렬 알고리즘 구현하기\n",
    "\n",
    "from typing import MutableSequence\n",
    "\n",
    "def fsort(a:MutableSequence, max:int)->None:\n",
    "    \"\"\"도수 정렬(배열 원솟값은 0이상 max이하)\"\"\"\n",
    "    n=len(a)\n",
    "    f=[0]*(max+1)\n",
    "    b=[0]*n\n",
    "    \n",
    "    for i in range(n):\n",
    "        f[a[i]]+=1\n",
    "    for i in range(1, max+1):\n",
    "        f[i]+=f[i-1]\n",
    "    for i in range(n-1,-1,-1):\n",
    "        f[a[i]]-=1; b[f[a[i]]]=a[i]\n",
    "    for i in range(n):\n",
    "        a[i]=b[i]\n",
    "        \n",
    "def counting_sort(a:MutableSequence)->None:\n",
    "    \"\"\"도수정렬\"\"\"\n",
    "    fsort(a,max(a))\n",
    "    \n",
    "if __name__=='__main__':\n",
    "    print('도수 정렬을 수행합니다.')\n",
    "    num=int(input('원소 수를 입력하세요.: '))\n",
    "    x=[None]*num\n",
    "    \n",
    "    for i in range(num):\n",
    "        while True:\n",
    "            x[i]=int(input(f'x[{i}]:'))\n",
    "            if x[i]>=0:\n",
    "                break\n",
    "    counting_sort(x)\n",
    "    \n",
    "    print('오름차순으로 정렬했습니다.')\n",
    "    for i in range(num):\n",
    "        print(f'x[{i}]={x[i]}')"
   ]
  }
 ],
 "metadata": {
  "kernelspec": {
   "display_name": "Python 3",
   "language": "python",
   "name": "python3"
  },
  "language_info": {
   "codemirror_mode": {
    "name": "ipython",
    "version": 3
   },
   "file_extension": ".py",
   "mimetype": "text/x-python",
   "name": "python",
   "nbconvert_exporter": "python",
   "pygments_lexer": "ipython3",
   "version": "3.8.8"
  }
 },
 "nbformat": 4,
 "nbformat_minor": 5
}
