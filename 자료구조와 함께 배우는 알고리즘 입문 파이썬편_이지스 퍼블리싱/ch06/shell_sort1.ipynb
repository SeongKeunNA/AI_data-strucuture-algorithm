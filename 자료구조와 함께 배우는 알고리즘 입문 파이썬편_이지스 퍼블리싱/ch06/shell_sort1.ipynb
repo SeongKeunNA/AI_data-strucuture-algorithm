{
 "cells": [
  {
   "cell_type": "code",
   "execution_count": 3,
   "id": "8bee6580",
   "metadata": {},
   "outputs": [
    {
     "name": "stdout",
     "output_type": "stream",
     "text": [
      "셸 정렬을 수행합니다.\n",
      "원소 수를 입력하세요.: 8\n",
      "x[0]: 8\n",
      "x[1]: 1\n",
      "x[2]: 4\n",
      "x[3]: 2\n",
      "x[4]: 7\n",
      "x[5]: 6\n",
      "x[6]: 3\n",
      "x[7]: 5\n",
      "오름차순으로 정렬했습니다.\n",
      "x[0]=1\n",
      "x[1]=2\n",
      "x[2]=3\n",
      "x[3]=4\n",
      "x[4]=5\n",
      "x[5]=6\n",
      "x[6]=7\n",
      "x[7]=8\n"
     ]
    }
   ],
   "source": [
    "#셸 정렬 알고리즘 구현하기\n",
    "\n",
    "from typing import MutableSequence\n",
    "\n",
    "def shell_sort(a:MutableSequence)->None:\n",
    "    \"\"\"셸 정렬\"\"\"\n",
    "    n=len(a)\n",
    "    h=n//2\n",
    "    while h>0:\n",
    "        for i in range(h,n):\n",
    "            j=i-h\n",
    "            tmp=a[i]\n",
    "            while j>=0 and a[j]>tmp:\n",
    "                a[j+h]=a[j]\n",
    "                j-=h\n",
    "            a[j+h]=tmp\n",
    "        h//=2\n",
    "        \n",
    "if __name__=='__main__':\n",
    "    print('셸 정렬을 수행합니다.')\n",
    "    num=int(input('원소 수를 입력하세요.: '))\n",
    "    x=[None]*num #원소 수가 num인 배열을 생성\n",
    "    \n",
    "    for i in range(num):\n",
    "        x[i]=int(input(f'x[{i}]: '))\n",
    "        \n",
    "    shell_sort(x) #배열 x를 셸 정렬\n",
    "    \n",
    "    print('오름차순으로 정렬했습니다.')\n",
    "    for i in range(num):\n",
    "          print(f'x[{i}]={x[i]}')\n",
    "        \n",
    "\n",
    "\n",
    "\n"
   ]
  }
 ],
 "metadata": {
  "kernelspec": {
   "display_name": "Python 3",
   "language": "python",
   "name": "python3"
  },
  "language_info": {
   "codemirror_mode": {
    "name": "ipython",
    "version": 3
   },
   "file_extension": ".py",
   "mimetype": "text/x-python",
   "name": "python",
   "nbconvert_exporter": "python",
   "pygments_lexer": "ipython3",
   "version": "3.8.8"
  }
 },
 "nbformat": 4,
 "nbformat_minor": 5
}
