{
 "cells": [
  {
   "cell_type": "code",
   "execution_count": 6,
   "id": "a93f4c05",
   "metadata": {},
   "outputs": [
    {
     "name": "stdout",
     "output_type": "stream",
     "text": [
      "퀵 정렬을 합니다(원소 수가 9 미만이면 단순 삽입 정렬을 합니다.)\n",
      "원소 수를 입력하세요.: 1\n",
      "x[0]:1\n",
      "오름차순을 정렬했습니다.\n",
      "x[0]=1\n"
     ]
    }
   ],
   "source": [
    "#퀵 정렬 알고리즘 구현하기 (원소 수가 9 미만이면 단순 삽입 정렬)\n",
    "\n",
    "from typing import MutableSequence\n",
    "\n",
    "def sort3(a:MutableSequence, idx1:int, idx2:int, idx3:int):\n",
    "    \"\"\"a[idx1],a[idx2],a[idx3]을 오름차순으로 정렬하고 중앙값의 인덱스를 반환\"\"\"\n",
    "    if a[idx2] < a[idx1]:\n",
    "        a[idx2], a[idx1]=a[idx1],a[idx2]\n",
    "    if a[idx3] < a[idx2]:\n",
    "        a[idx2], a[idx3]=a[idx3],a[idx2]\n",
    "    if a[idx2] < a[idx1]:\n",
    "        a[idx2], a[idx1]=a[idx1],a[idx2]\n",
    "    return idx2\n",
    "\n",
    "def insertion_sort(a:MutableSequence, left:int, right:int)->None:\n",
    "    \"\"\"a[left]~a[right]를 단순 삽입 정렬\"\"\"\n",
    "    for i in range(left+1, right+1):\n",
    "        j=i\n",
    "        tmp=a[i]\n",
    "        while j>0 and a[j-1]>tmp:\n",
    "            a[j]=a[j-1]\n",
    "            j-=1\n",
    "        a[j]=tmp\n",
    "    \n",
    "def qsort(a:MutableSequence, left:int, right:int)->None:\n",
    "    \"\"\"a[left]~a[right]를 퀵 정렬\"\"\"\n",
    "    if right-left<9:\n",
    "        insertion_sort(a, left, right)\n",
    "        \n",
    "    else:\n",
    "        pl=left\n",
    "        pr=right\n",
    "        m=sort3(a, pl, (pl+pr)//2, pr)\n",
    "        x=a[m]\n",
    "        \n",
    "        a[m],a[pr-1]=a[pr-1],a[m]\n",
    "        pl+=1\n",
    "        pr-=2\n",
    "        while pl<=pr:\n",
    "            while a[pl]<x:\n",
    "                pl+=1\n",
    "            while a[pr]>x:\n",
    "                pr-=1\n",
    "            if pl<=pr:\n",
    "                a[pl],a[pr]=a[pr],a[pl]\n",
    "                pl+=1\n",
    "                pr-=1\n",
    "        if left <pr:\n",
    "            qsort(a, left, pr)\n",
    "        if pl<right:\n",
    "            qsort(a, pl, right)\n",
    "    \n",
    "def quick_sort(a:MutableSequence)->None:\n",
    "    \"\"\"퀵정렬\"\"\"\n",
    "    qsort(a,0,len(a)-1)\n",
    "    \n",
    "if __name__=='__main__':\n",
    "    print('퀵 정렬을 합니다(원소 수가 9 미만이면 단순 삽입 정렬을 합니다.)')\n",
    "    num=int(input('원소 수를 입력하세요.: '))\n",
    "    x=[None]*num\n",
    "    \n",
    "    for i in range(num):\n",
    "        x[i]=int(input(f'x[{i}]:'))\n",
    "        \n",
    "    quick_sort(x)\n",
    "    \n",
    "    print('오름차순을 정렬했습니다.')\n",
    "    for i in range(num):\n",
    "        print(f'x[{i}]={x[i]}')  "
   ]
  }
 ],
 "metadata": {
  "kernelspec": {
   "display_name": "Python 3",
   "language": "python",
   "name": "python3"
  },
  "language_info": {
   "codemirror_mode": {
    "name": "ipython",
    "version": 3
   },
   "file_extension": ".py",
   "mimetype": "text/x-python",
   "name": "python",
   "nbconvert_exporter": "python",
   "pygments_lexer": "ipython3",
   "version": "3.8.8"
  }
 },
 "nbformat": 4,
 "nbformat_minor": 5
}
