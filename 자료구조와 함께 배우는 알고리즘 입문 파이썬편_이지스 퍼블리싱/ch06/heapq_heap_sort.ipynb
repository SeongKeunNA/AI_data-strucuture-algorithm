{
 "cells": [
  {
   "cell_type": "code",
   "execution_count": 1,
   "id": "95eaf1d9",
   "metadata": {},
   "outputs": [
    {
     "name": "stdout",
     "output_type": "stream",
     "text": [
      "힙 정렬을 수행합니다.\n",
      "원소 수를 입력하세요.: 7\n",
      "x[0]:6\n",
      "x[1]:4\n",
      "x[2]:3\n",
      "x[3]:7\n",
      "x[4]:1\n",
      "x[5]:9\n",
      "x[6]:8\n",
      "오름차순으로 정렬하였습니다.\n",
      "x[0]=1\n",
      "x[1]=3\n",
      "x[2]=4\n",
      "x[3]=6\n",
      "x[4]=7\n",
      "x[5]=8\n",
      "x[6]=9\n"
     ]
    }
   ],
   "source": [
    "#힙 정렬 알고리즘 구현하기(heapq.push와 heap.pop을 사용)\n",
    "\n",
    "import heapq\n",
    "from typing import MutableSequence\n",
    "\n",
    "def heap_sort(a:MutableSequence)->None:\n",
    "    \"\"\"힙 정렬(heapq.push와 heap.pop을 사용)\"\"\"\n",
    "    \n",
    "    heap=[]\n",
    "    for i in a:\n",
    "        heapq.heappush(heap,i)\n",
    "    for i in range(len(a)):\n",
    "        a[i]=heapq.heappop(heap)\n",
    "        \n",
    "if __name__=='__main__':\n",
    "    print('힙 정렬을 수행합니다.')\n",
    "    num=int(input('원소 수를 입력하세요.: '))\n",
    "    x=[None]*num\n",
    "    \n",
    "    for i in range(num):\n",
    "        x[i]=int(input(f'x[{i}]:'))\n",
    "    \n",
    "    heap_sort(x)\n",
    "    \n",
    "    print('오름차순으로 정렬하였습니다.')\n",
    "    for i in range(num):\n",
    "        print(f'x[{i}]={x[i]}')"
   ]
  }
 ],
 "metadata": {
  "kernelspec": {
   "display_name": "Python 3",
   "language": "python",
   "name": "python3"
  },
  "language_info": {
   "codemirror_mode": {
    "name": "ipython",
    "version": 3
   },
   "file_extension": ".py",
   "mimetype": "text/x-python",
   "name": "python",
   "nbconvert_exporter": "python",
   "pygments_lexer": "ipython3",
   "version": "3.8.8"
  }
 },
 "nbformat": 4,
 "nbformat_minor": 5
}
