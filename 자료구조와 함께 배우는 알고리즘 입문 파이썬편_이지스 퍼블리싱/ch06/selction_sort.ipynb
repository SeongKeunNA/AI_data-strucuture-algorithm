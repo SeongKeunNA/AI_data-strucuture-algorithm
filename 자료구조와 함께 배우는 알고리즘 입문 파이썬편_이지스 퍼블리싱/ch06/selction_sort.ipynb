{
 "cells": [
  {
   "cell_type": "code",
   "execution_count": 2,
   "id": "7f6dd698",
   "metadata": {},
   "outputs": [
    {
     "name": "stdout",
     "output_type": "stream",
     "text": [
      "버블 정렬을 수행합니다.\n",
      "원소 수를 입력하세요.: 7\n",
      "x[0]: 1\n",
      "x[1]: 3\n",
      "x[2]: 4\n",
      "x[3]: 6\n",
      "x[4]: 7\n",
      "x[5]: 8\n",
      "x[6]: 9\n",
      "오름차순으로 정렬했습니다.\n",
      "x[0]=1\n",
      "x[1]=3\n",
      "x[2]=4\n",
      "x[3]=6\n",
      "x[4]=7\n",
      "x[5]=8\n",
      "x[6]=9\n"
     ]
    }
   ],
   "source": [
    "#단순 선택 정렬 알고리즘 구현하기\n",
    "\n",
    "from typing import MutableSequence\n",
    "\n",
    "def selction_sort(a:MutableSequence)->None:\n",
    "    \"\"\"단순 선택 정렬\"\"\"\n",
    "    n=len(a)\n",
    "    for i in range(n-1):\n",
    "        min=i #정렬할 부분에서 가장 작은 원소의 인덱스\n",
    "        for j in range(i+1,n):\n",
    "            if a[j]<a[min]:\n",
    "                min=j\n",
    "        a[i],a[min]=a[min],a[i] \n",
    "        \n",
    "if __name__=='__main__':\n",
    "    print('버블 정렬을 수행합니다.')\n",
    "    num=int(input('원소 수를 입력하세요.: '))\n",
    "    x=[None]*num #원소 수가 num인 배열을 생성\n",
    "    \n",
    "    for i in range(num):\n",
    "        x[i]=int(input(f'x[{i}]: '))\n",
    "        \n",
    "    selction_sort(x)  #배열 x를 버블 정렬\n",
    "    \n",
    "    print('오름차순으로 정렬했습니다.')\n",
    "    for i in range(num):\n",
    "        print(f'x[{i}]={x[i]}')\n",
    "                "
   ]
  }
 ],
 "metadata": {
  "kernelspec": {
   "display_name": "Python 3",
   "language": "python",
   "name": "python3"
  },
  "language_info": {
   "codemirror_mode": {
    "name": "ipython",
    "version": 3
   },
   "file_extension": ".py",
   "mimetype": "text/x-python",
   "name": "python",
   "nbconvert_exporter": "python",
   "pygments_lexer": "ipython3",
   "version": "3.8.8"
  }
 },
 "nbformat": 4,
 "nbformat_minor": 5
}
