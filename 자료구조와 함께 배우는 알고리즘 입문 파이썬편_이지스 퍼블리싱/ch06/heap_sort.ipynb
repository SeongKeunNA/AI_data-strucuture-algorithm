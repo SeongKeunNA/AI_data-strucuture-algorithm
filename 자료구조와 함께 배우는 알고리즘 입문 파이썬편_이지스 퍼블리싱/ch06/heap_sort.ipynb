{
 "cells": [
  {
   "cell_type": "code",
   "execution_count": 2,
   "id": "71e794ba",
   "metadata": {},
   "outputs": [
    {
     "name": "stdout",
     "output_type": "stream",
     "text": [
      "힙 정렬을 수행합니다.\n",
      "원소 수를 입력하세요.: 7\n",
      "x[0]:6\n",
      "x[1]:4\n",
      "x[2]:3\n",
      "x[3]:7\n",
      "x[4]:1\n",
      "x[5]:9\n",
      "x[6]:8\n",
      "오름차순으로 정렬하였습니다.\n",
      "x[0]=1\n",
      "x[1]=3\n",
      "x[2]=4\n",
      "x[3]=6\n",
      "x[4]=7\n",
      "x[5]=8\n",
      "x[6]=9\n"
     ]
    }
   ],
   "source": [
    "#힙 정렬 알고리즘 구현하기\n",
    "\n",
    "from typing import MutableSequence\n",
    "\n",
    "def heap_sort(a:MutableSequence)->None:\n",
    "    \"\"\"힙정렬\"\"\"\n",
    "    def down_heap(a:MutableSequence, left:int, right:int)->None:\n",
    "        \"\"\"a[left]~a[right]를 힙으로 만들기\"\"\"\n",
    "        temp=a[left] #루트\n",
    "\n",
    "        parent=left\n",
    "        while parent<(right+1)//2:\n",
    "\n",
    "            cl=parent*2+1\n",
    "            cr=cl+1\n",
    "            child=cr if cr<=right and a[cr]>a[cl] else cl\n",
    "            if temp>=a[child]:\n",
    "                break\n",
    "            a[parent]=a[child]\n",
    "            parent=child\n",
    "        a[parent]=temp\n",
    "\n",
    "    n=len(a)\n",
    "    \n",
    "    for i in range((n-1)//2, -1, -1):\n",
    "        down_heap(a, i, n-1)\n",
    "        \n",
    "    for i in range(n-1, 0, -1):\n",
    "        a[0], a[i]=a[i],a[0]\n",
    "        down_heap(a,0,i-1)\n",
    "    \n",
    "if __name__=='__main__':\n",
    "    print('힙 정렬을 수행합니다.')\n",
    "    num=int(input('원소 수를 입력하세요.: '))\n",
    "    x=[None]*num\n",
    "    \n",
    "    for i in range(num):\n",
    "        x[i]=int(input(f'x[{i}]:'))\n",
    "    \n",
    "    heap_sort(x)\n",
    "    \n",
    "    print('오름차순으로 정렬하였습니다.')\n",
    "    for i in range(num):\n",
    "        print(f'x[{i}]={x[i]}')"
   ]
  }
 ],
 "metadata": {
  "kernelspec": {
   "display_name": "Python 3",
   "language": "python",
   "name": "python3"
  },
  "language_info": {
   "codemirror_mode": {
    "name": "ipython",
    "version": 3
   },
   "file_extension": ".py",
   "mimetype": "text/x-python",
   "name": "python",
   "nbconvert_exporter": "python",
   "pygments_lexer": "ipython3",
   "version": "3.8.8"
  }
 },
 "nbformat": 4,
 "nbformat_minor": 5
}
