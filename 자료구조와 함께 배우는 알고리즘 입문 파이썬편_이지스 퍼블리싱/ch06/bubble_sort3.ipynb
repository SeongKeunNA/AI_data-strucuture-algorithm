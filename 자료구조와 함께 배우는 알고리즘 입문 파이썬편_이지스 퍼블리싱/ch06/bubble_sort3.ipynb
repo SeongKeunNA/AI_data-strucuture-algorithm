{
 "cells": [
  {
   "cell_type": "code",
   "execution_count": null,
   "id": "d9530b82",
   "metadata": {},
   "outputs": [],
   "source": [
    "#버블 정렬 알고리즘 구현하기(알고리즘의 개선2)\n",
    "\n",
    "from typing import MutableSequence\n",
    "\n",
    "def bubble_sort(a:MutableSequence)->None:\n",
    "    \"\"\"버블 정렬(스캔 범위를 제한)\"\"\"\n",
    "    n=len(a)\n",
    "    k=0\n",
    "    while k<n-1:\n",
    "        last=n-1\n",
    "        for j in range(n-1, k, -1):\n",
    "            if a[j-1]>a[j]:\n",
    "                a[j-1],a[j]=a[j],a[j-1]\n",
    "                last=j\n",
    "        k=last\n",
    "\n",
    "if __name__=='__main__':\n",
    "    print('버블 정렬을 수행합니다.')\n",
    "    num=int(input('원소 수를 입력하세요.: '))\n",
    "    x=[None]*num #원소 수가 num인 배열을 생성\n",
    "    \n",
    "    for i in range(num):\n",
    "        x[i]=int(input(f'x[{i}]: '))\n",
    "        \n",
    "    bubble_sort(x)  #배열 x를 버블 정렬\n",
    "    \n",
    "    print('오름차순으로 정렬했습니다.')\n",
    "    for i in range(num):\n",
    "        print(f'x[{i}]={x[i]}')\n",
    "\n",
    "                "
   ]
  }
 ],
 "metadata": {
  "kernelspec": {
   "display_name": "Python 3",
   "language": "python",
   "name": "python3"
  },
  "language_info": {
   "codemirror_mode": {
    "name": "ipython",
    "version": 3
   },
   "file_extension": ".py",
   "mimetype": "text/x-python",
   "name": "python",
   "nbconvert_exporter": "python",
   "pygments_lexer": "ipython3",
   "version": "3.8.8"
  }
 },
 "nbformat": 4,
 "nbformat_minor": 5
}
