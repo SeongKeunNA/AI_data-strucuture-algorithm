{
 "cells": [
  {
   "cell_type": "code",
   "execution_count": 1,
   "id": "bb15a9c8",
   "metadata": {},
   "outputs": [
    {
     "name": "stdout",
     "output_type": "stream",
     "text": [
      "sorted() 함수를 사용하여 정렬합니다.\n",
      "원소 수를 입력하세요.: 5\n",
      "x[0]: 6\n",
      "x[1]: 4\n",
      "x[2]: 3\n",
      "x[3]: 7\n",
      "x[4]: 1\n",
      "오름차순으로 정렬했습니다.\n",
      "x[0]=1\n",
      "x[1]=3\n",
      "x[2]=4\n",
      "x[3]=6\n",
      "x[4]=7\n",
      "내림차순으로 정렬했습니다.\n",
      "x[0]=7\n",
      "x[1]=6\n",
      "x[2]=4\n",
      "x[3]=3\n",
      "x[4]=1\n"
     ]
    }
   ],
   "source": [
    "#sorted()함수를 사용하여 정렬하기 211203\n",
    "\n",
    "print('sorted() 함수를 사용하여 정렬합니다.')\n",
    "num=int(input('원소 수를 입력하세요.: '))\n",
    "x=[None]*num\n",
    "\n",
    "for i in range(num):\n",
    "    x[i]=int(input(f'x[{i}]: '))\n",
    "    \n",
    "x=sorted(x)\n",
    "print('오름차순으로 정렬했습니다.')\n",
    "for i in range(num):\n",
    "    print(f'x[{i}]={x[i]}')\n",
    "    \n",
    "x=sorted(x, reverse=True)\n",
    "print('내림차순으로 정렬했습니다.')\n",
    "for i in range(num):\n",
    "    print(f'x[{i}]={x[i]}')"
   ]
  }
 ],
 "metadata": {
  "kernelspec": {
   "display_name": "Python 3",
   "language": "python",
   "name": "python3"
  },
  "language_info": {
   "codemirror_mode": {
    "name": "ipython",
    "version": 3
   },
   "file_extension": ".py",
   "mimetype": "text/x-python",
   "name": "python",
   "nbconvert_exporter": "python",
   "pygments_lexer": "ipython3",
   "version": "3.8.8"
  }
 },
 "nbformat": 4,
 "nbformat_minor": 5
}
