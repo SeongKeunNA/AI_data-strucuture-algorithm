{
 "cells": [
  {
   "cell_type": "code",
   "execution_count": 1,
   "id": "edc19d35",
   "metadata": {},
   "outputs": [
    {
     "name": "stdout",
     "output_type": "stream",
     "text": [
      "배열을 나눕니다.\n",
      "원소 수를 입력하세요.: 9\n",
      "x[0]: 1\n",
      "x[1]: 8\n",
      "x[2]: 7\n",
      "x[3]: 4\n",
      "x[4]: 5\n",
      "x[5]: 2\n",
      "x[6]: 6\n",
      "x[7]: 3\n",
      "x[8]: 9\n",
      "피벗은 5입니다.\n",
      "피벗 이하인 그룹입니다.\n",
      "1 3 2 4 5\n",
      "피벗과 일치하는 그룹입니다.\n",
      "5\n",
      "피벗 이상인 그룹입니다.\n",
      "5 7 6 8 9\n"
     ]
    }
   ],
   "source": [
    "#배열을 두 그룹으로 나누기\n",
    "\n",
    "from typing import MutableSequence\n",
    "\n",
    "def partition(a:MutableSequence)->None:\n",
    "    \"\"\"배열을 나누어 출력\"\"\"\n",
    "    n=len(a)\n",
    "    pl=0\n",
    "    pr=n-1\n",
    "    x=a[n//2]\n",
    "    \n",
    "    while pl<=pr:\n",
    "        while a[pl]<x: pl+=1\n",
    "        while a[pr]>x: pr-=1\n",
    "        if pl<=pr:\n",
    "            a[pl], a[pr]=a[pr],a[pl]\n",
    "            pl+=1\n",
    "            pr-=1\n",
    "            \n",
    "    print(f'피벗은 {x}입니다.')\n",
    "    \n",
    "    print('피벗 이하인 그룹입니다.')\n",
    "    print(*a[0:pl]) #a[0]~a[p-1]\n",
    "    \n",
    "    if pl>pr+1:\n",
    "        print('피벗과 일치하는 그룹입니다.')\n",
    "        print(*a[pr+1:pl])\n",
    "        \n",
    "    print('피벗 이상인 그룹입니다.')\n",
    "    print(*a[pr+1:n])\n",
    "    \n",
    "if __name__=='__main__':\n",
    "    print('배열을 나눕니다.')\n",
    "    num=int(input('원소 수를 입력하세요.: '))\n",
    "    x=[None]*num\n",
    "    \n",
    "    for i in range(num):\n",
    "        x[i]=int(input(f'x[{i}]: '))\n",
    "        \n",
    "    partition(x)\n",
    "    "
   ]
  }
 ],
 "metadata": {
  "kernelspec": {
   "display_name": "Python 3",
   "language": "python",
   "name": "python3"
  },
  "language_info": {
   "codemirror_mode": {
    "name": "ipython",
    "version": 3
   },
   "file_extension": ".py",
   "mimetype": "text/x-python",
   "name": "python",
   "nbconvert_exporter": "python",
   "pygments_lexer": "ipython3",
   "version": "3.8.8"
  }
 },
 "nbformat": 4,
 "nbformat_minor": 5
}
