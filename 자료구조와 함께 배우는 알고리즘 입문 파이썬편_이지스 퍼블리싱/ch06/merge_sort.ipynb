{
 "cells": [
  {
   "cell_type": "code",
   "execution_count": null,
   "id": "610abf7f",
   "metadata": {},
   "outputs": [
    {
     "name": "stdout",
     "output_type": "stream",
     "text": [
      "병합 정렬을 수행합니다.\n",
      "원소 수를 입력하세요.: 9\n",
      "x[0]: 5\n",
      "x[1]: 8\n",
      "x[2]: 4\n",
      "x[3]: 2\n",
      "x[4]: 6\n",
      "x[5]: 1\n",
      "x[6]: 3\n",
      "x[7]: 9\n",
      "x[8]: 7\n"
     ]
    }
   ],
   "source": [
    "#병합 정렬 알고리즘 구현하기 211203\n",
    "\n",
    "from typing import MutableSequence\n",
    "\n",
    "def merge_sort(a:MutableSequence)->None:\n",
    "    \"\"\"병합 정렬\"\"\"\n",
    "    \n",
    "    def _merge_sort(a:MutableSequence, left:int, right:int)->None:\n",
    "        \"\"\"a[left]~a[right]를 재귀적으로 병합 정렬\"\"\"\n",
    "        if left<right:\n",
    "            center=(left+right)//2\n",
    "            \n",
    "            _merge_sort(a,left,center)  #배열 앞부분을 병합 정렬\n",
    "            _merge_sort(a,center,right) #배열 뒷부분을 병합 정렬\n",
    "            \n",
    "            p=j=0\n",
    "            i=k=left\n",
    "            \n",
    "            while i<=center:\n",
    "                buff[p]=a[i]\n",
    "                p+=1\n",
    "                \n",
    "                \n",
    "                i+=1\n",
    "                \n",
    "            while i<=right and j<p:\n",
    "                if buff[i]<=a[i]:\n",
    "                    a[k]=buff[j]\n",
    "                    j+=1\n",
    "                \n",
    "                else:\n",
    "                    a[k]=a[i]\n",
    "                    i+=1\n",
    "                k+=1\n",
    "                \n",
    "            while j<p:\n",
    "                a[k]=buff[j]\n",
    "                k+=1\n",
    "                j+=1\n",
    "                \n",
    "    n=len(a)\n",
    "    buff=[None]*n\n",
    "    _merge_sort(a,0,n-1)\n",
    "    del buff\n",
    "    \n",
    "if __name__ =='__main__':\n",
    "    print('병합 정렬을 수행합니다.')\n",
    "    num=int(input('원소 수를 입력하세요.: '))\n",
    "    x=[None]*num\n",
    "    \n",
    "    for i in range(num):\n",
    "        x[i]=int(input(f'x[{i}]: '))\n",
    "        \n",
    "    merge_sort(x)\n",
    "    \n",
    "    print('오름차순으로 정렬했습니다.')\n",
    "    for i in range(num):\n",
    "        print(f'x[{i}]={x[i]}')\n",
    "                "
   ]
  },
  {
   "cell_type": "code",
   "execution_count": 2,
   "id": "585a660a",
   "metadata": {},
   "outputs": [
    {
     "name": "stdout",
     "output_type": "stream",
     "text": [
      "C:\\Users\\najonggeun\\자료구조,알고리즘_이지스 퍼블리싱\\ch06\n"
     ]
    }
   ],
   "source": [
    "import os\n",
    "print(os.getcwd())"
   ]
  }
 ],
 "metadata": {
  "kernelspec": {
   "display_name": "Python 3",
   "language": "python",
   "name": "python3"
  },
  "language_info": {
   "codemirror_mode": {
    "name": "ipython",
    "version": 3
   },
   "file_extension": ".py",
   "mimetype": "text/x-python",
   "name": "python",
   "nbconvert_exporter": "python",
   "pygments_lexer": "ipython3",
   "version": "3.8.8"
  }
 },
 "nbformat": 4,
 "nbformat_minor": 5
}
