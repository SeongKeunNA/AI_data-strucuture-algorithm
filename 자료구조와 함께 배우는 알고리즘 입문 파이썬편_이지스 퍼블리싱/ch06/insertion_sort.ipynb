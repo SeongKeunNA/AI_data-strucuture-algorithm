{
 "cells": [
  {
   "cell_type": "code",
   "execution_count": 2,
   "id": "ea3fddf4",
   "metadata": {},
   "outputs": [
    {
     "name": "stdout",
     "output_type": "stream",
     "text": [
      "단순 삽입 정렬을 수행합니다.\n",
      "원소 수를 입력하세요.: 7\n",
      "x[0]: 6\n",
      "x[1]: 4\n",
      "x[2]: 3\n",
      "x[3]: 7\n",
      "x[4]: 1\n",
      "x[5]: 9\n",
      "x[6]: 8\n",
      "오름차순으로 정렬했습니다.\n",
      "x[0]=1\n",
      "x[1]=3\n",
      "x[2]=4\n",
      "x[3]=6\n",
      "x[4]=7\n",
      "x[5]=8\n",
      "x[6]=9\n"
     ]
    }
   ],
   "source": [
    "#단순 삽입 정렬 알고리즘 구현하기\n",
    "\n",
    "from typing import MutableSequence\n",
    "\n",
    "def insertion_sort(a:MutableSequence)->None:\n",
    "    \"\"\"단순 삽입 정렬\"\"\"\n",
    "    n=len(a)\n",
    "    for i in range(1,n):\n",
    "        j=i\n",
    "        tmp=a[i]\n",
    "        while j>0 and a[j-1]>tmp:\n",
    "            a[j]=a[j-1]\n",
    "            j-=1\n",
    "        a[j]=tmp\n",
    "        \n",
    "if __name__=='__main__':\n",
    "    print('단순 삽입 정렬을 수행합니다.')\n",
    "    num=int(input('원소 수를 입력하세요.: '))\n",
    "    x=[None]*num #원소 수가 num인 배열을 생성\n",
    "    \n",
    "    for i in range(num):\n",
    "        x[i]=int(input(f'x[{i}]: '))\n",
    "        \n",
    "    insertion_sort(x)\n",
    "    \n",
    "    print('오름차순으로 정렬했습니다.')\n",
    "    for i in range(num):\n",
    "        print(f'x[{i}]={x[i]}')"
   ]
  }
 ],
 "metadata": {
  "kernelspec": {
   "display_name": "Python 3",
   "language": "python",
   "name": "python3"
  },
  "language_info": {
   "codemirror_mode": {
    "name": "ipython",
    "version": 3
   },
   "file_extension": ".py",
   "mimetype": "text/x-python",
   "name": "python",
   "nbconvert_exporter": "python",
   "pygments_lexer": "ipython3",
   "version": "3.8.8"
  }
 },
 "nbformat": 4,
 "nbformat_minor": 5
}
